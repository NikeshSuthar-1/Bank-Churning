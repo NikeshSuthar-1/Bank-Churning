{
 "cells": [
  {
   "cell_type": "markdown",
   "id": "3f0f82e3",
   "metadata": {},
   "source": [
    "# Machine Learning"
   ]
  },
  {
   "cell_type": "code",
   "execution_count": 1,
   "id": "eb8fd3a6",
   "metadata": {},
   "outputs": [],
   "source": [
    "#Import libraries need for cleaning and EDA\n",
    "import pandas as pd\n",
    "import numpy as np\n",
    "import matplotlib.pyplot as plt\n",
    "import seaborn as sns\n",
    "\n",
    "#Import libraries for modeling\n",
    "from sklearn.metrics import classification_report\n",
    "from sklearn.preprocessing import MinMaxScaler\n",
    "from sklearn.preprocessing import StandardScaler\n",
    "from sklearn.model_selection import cross_val_score\n",
    "from sklearn.model_selection import train_test_split\n",
    "from sklearn import linear_model\n",
    "from sklearn import neighbors\n",
    "from sklearn import tree \n",
    "from sklearn import svm \n",
    "from sklearn.pipeline import Pipeline\n",
    "from sklearn.model_selection import GridSearchCV\n",
    "from sklearn.metrics import confusion_matrix\n",
    "from imblearn.over_sampling import SMOTE"
   ]
  },
  {
   "cell_type": "code",
   "execution_count": 4,
   "id": "0fcfeb8f",
   "metadata": {},
   "outputs": [],
   "source": [
    "df=pd.read_csv('Bank_Churned.csv')"
   ]
  },
  {
   "cell_type": "markdown",
   "id": "d95c7526",
   "metadata": {},
   "source": [
    "# Under Sampling Method"
   ]
  },
  {
   "cell_type": "code",
   "execution_count": 5,
   "id": "d196973f",
   "metadata": {},
   "outputs": [],
   "source": [
    "#Created the undersampling method by randomly choosing the same amount of 0 values as 1 \n",
    "df1 = df[df.Attrition_Flag == 1]\n",
    "df0 = df[df.Attrition_Flag == 0].sample(n=len(df1),random_state = 27)\n",
    "dfn = pd.concat([df1,df0],axis=0)"
   ]
  },
  {
   "cell_type": "code",
   "execution_count": 6,
   "id": "a768d344",
   "metadata": {},
   "outputs": [],
   "source": [
    "#Setting X and y variables\n",
    "X = dfn.drop(columns=['Attrition_Flag'])\n",
    "y = dfn.Attrition_Flag"
   ]
  },
  {
   "cell_type": "markdown",
   "id": "960c3fea",
   "metadata": {},
   "source": [
    "Pipeline and GridSearch will be used to find which model performs the best."
   ]
  },
  {
   "cell_type": "code",
   "execution_count": 7,
   "id": "ebf55b9d",
   "metadata": {},
   "outputs": [],
   "source": [
    "#Spliting the data into train and test\n",
    "X_train_us,X_test_us,y_train_us,y_test_us = train_test_split(X,y,test_size = 0.3,random_state=27)"
   ]
  },
  {
   "cell_type": "code",
   "execution_count": 8,
   "id": "5d21d3d0",
   "metadata": {},
   "outputs": [
    {
     "name": "stdout",
     "output_type": "stream",
     "text": [
      "Wall time: 47.4 s\n"
     ]
    }
   ],
   "source": [
    "%%time\n",
    "#Created a pipeline to find the best model\n",
    "\n",
    "estimators = [('normalise', StandardScaler()),\n",
    "              ('model', svm.SVC())]\n",
    "\n",
    "pipe = Pipeline(estimators)\n",
    "\n",
    "param_grid = [\n",
    "            {'model': [svm.SVC()], \n",
    "             'normalise': [StandardScaler(), MinMaxScaler()],\n",
    "             'model__gamma': [0.001, 0.01, 0.1, 1, 10, 100],\n",
    "             'model__tol': [0.001, 0.01, 0.1, 1, 10, 100],\n",
    "             'model__C': [0.001, 0.01, 0.1, 1, 10, 100]},\n",
    "            {'model': [linear_model.LogisticRegression()], \n",
    "             'normalise': [StandardScaler(), MinMaxScaler()],\n",
    "             'model__tol': [0.001, 0.01, 0.1, 1, 10, 100],\n",
    "             'model__C': [0.001, 0.01, 0.1, 1, 10, 100]},\n",
    "            {'model':[neighbors.KNeighborsClassifier()],\n",
    "             'normalise':[StandardScaler(), MinMaxScaler()],\n",
    "             'model__n_neighbors':[1,11,21,31,41,51,]},\n",
    "            {'model':[tree.DecisionTreeClassifier()],\n",
    "             'normalise':[StandardScaler(),MinMaxScaler()],\n",
    "             'model__max_depth':[1,11,21,31,41,51],\n",
    "             'model__min_samples_leaf':[1,2,3]}\n",
    "]\n",
    "\n",
    "grid = GridSearchCV(pipe, param_grid, cv=5,n_jobs=-1)\n",
    "fittedgrid = grid.fit(X_train_us, y_train_us)"
   ]
  },
  {
   "cell_type": "code",
   "execution_count": 9,
   "id": "ea366cce",
   "metadata": {},
   "outputs": [
    {
     "data": {
      "text/plain": [
       "Pipeline(steps=[('normalise', MinMaxScaler()),\n",
       "                ('model',\n",
       "                 DecisionTreeClassifier(max_depth=21, min_samples_leaf=3))])"
      ]
     },
     "execution_count": 9,
     "metadata": {},
     "output_type": "execute_result"
    }
   ],
   "source": [
    "#Found the best model for the undersampling method\n",
    "fittedgrid.best_estimator_"
   ]
  },
  {
   "cell_type": "markdown",
   "id": "6891f672",
   "metadata": {},
   "source": [
    "The best estimator was found to be DecisionTreeClassifier with a max_depth value of 21,min sample leaf = 3"
   ]
  },
  {
   "cell_type": "code",
   "execution_count": 11,
   "id": "d7f2d5e2",
   "metadata": {},
   "outputs": [
    {
     "name": "stdout",
     "output_type": "stream",
     "text": [
      "The Train score was : 0.9758454106280193\n",
      "Tree Model Classification Report:\n",
      "\n",
      "              precision    recall  f1-score   support\n",
      "\n",
      "           0       0.91      0.91      0.91       479\n",
      "           1       0.91      0.92      0.91       498\n",
      "\n",
      "    accuracy                           0.91       977\n",
      "   macro avg       0.91      0.91      0.91       977\n",
      "weighted avg       0.91      0.91      0.91       977\n",
      "\n"
     ]
    }
   ],
   "source": [
    "#Fitting the best undersampling model\n",
    "scaler = StandardScaler()\n",
    "scaler.fit(X_train_us)\n",
    "X_train_uS = scaler.transform(X_train_us)\n",
    "X_test_uS = scaler.transform(X_test_us)\n",
    "tree_US = tree.DecisionTreeClassifier(max_depth=41,min_samples_leaf=3)\n",
    "tree_US.fit(X_train_uS,y_train_us)\n",
    "print(f'The Train score was : {tree_US.score(X_train_uS,y_train_us)}')\n",
    "\n",
    "#Undersampling predictions\n",
    "y_pred_us = tree_US.predict(X_test_uS)\n",
    "\n",
    "#Created a confusion matrix to illistrate how well the model preformed\n",
    "pd.DataFrame(confusion_matrix(y_test_us,y_pred_us),index=['True Exisiting Customer','True Attrited Customer'],columns=['Predicted Existing Customer','Predicted Attrited Customer'])\n",
    "\n",
    "print('Tree Model Classification Report:')\n",
    "print('')\n",
    "print(classification_report(y_test_us,y_pred_us))"
   ]
  },
  {
   "cell_type": "markdown",
   "id": "ef2e1e9a",
   "metadata": {},
   "source": [
    "With under sampling the model can predict with an accuracy score of about 91% of the target. This tells us the model can predict up too 91% accuracy and 92% precision whether a customer is likely to churn or not. "
   ]
  },
  {
   "cell_type": "markdown",
   "id": "792857f7",
   "metadata": {},
   "source": [
    "# Oversampling Method\n",
    "\n",
    "For the oversample method I will be using the SMOTE package since it will make for the target variables."
   ]
  },
  {
   "cell_type": "code",
   "execution_count": 12,
   "id": "7d4960b4",
   "metadata": {},
   "outputs": [],
   "source": [
    "#Seperating the data into X and y variables\n",
    "X = df.drop(columns=['Attrition_Flag'])\n",
    "y = df.Attrition_Flag"
   ]
  },
  {
   "cell_type": "code",
   "execution_count": 13,
   "id": "aab146f1",
   "metadata": {},
   "outputs": [],
   "source": [
    "#Using the SMOTE library to oversample the data by randomly creating data \n",
    "sm = SMOTE(random_state=27)\n",
    "X,y = sm.fit_resample(X,y)"
   ]
  },
  {
   "cell_type": "code",
   "execution_count": 14,
   "id": "3bbf2ba3",
   "metadata": {},
   "outputs": [],
   "source": [
    "#Spliting the data into train and test\n",
    "X_train_os,X_test_os,y_train_os,y_test_os = train_test_split(X,y,test_size=0.3)"
   ]
  },
  {
   "cell_type": "code",
   "execution_count": 15,
   "id": "05bb7139",
   "metadata": {},
   "outputs": [
    {
     "name": "stdout",
     "output_type": "stream",
     "text": [
      "Wall time: 20min 39s\n"
     ]
    }
   ],
   "source": [
    "%%time\n",
    "#Again using the same pipeline to find the best model\n",
    "estimators = [('normalise', StandardScaler()),\n",
    "              ('model', svm.SVC())]\n",
    "\n",
    "pipe = Pipeline(estimators)\n",
    "\n",
    "param_grid = [\n",
    "            {'model': [svm.SVC()], \n",
    "             'normalise': [StandardScaler(), MinMaxScaler()],\n",
    "             'model__gamma': [0.001, 0.01, 0.1, 1, 10, 100],\n",
    "             'model__tol': [0.001, 0.01, 0.1, 1, 10, 100],\n",
    "             'model__C': [0.001, 0.01, 0.1, 1, 10, 100]},\n",
    "            {'model': [linear_model.LogisticRegression()], \n",
    "             'normalise': [StandardScaler(), MinMaxScaler()],\n",
    "             'model__tol': [0.001, 0.01, 0.1, 1, 10, 100],\n",
    "             'model__C': [0.001, 0.01, 0.1, 1, 10, 100]},\n",
    "            {'model':[neighbors.KNeighborsClassifier()],\n",
    "             'normalise':[StandardScaler(), MinMaxScaler()],\n",
    "             'model__n_neighbors':[1,11,21,31,41,51,]},\n",
    "            {'model':[tree.DecisionTreeClassifier()],\n",
    "             'normalise':[StandardScaler(),MinMaxScaler()],\n",
    "             'model__max_depth':[1,11,21,31,41,51],\n",
    "             'model__min_samples_leaf':[1,2,3]}\n",
    "]\n",
    "\n",
    "grid = GridSearchCV(pipe, param_grid, cv=5,n_jobs=-1)\n",
    "fittedgrid = grid.fit(X_train_os, y_train_os)"
   ]
  },
  {
   "cell_type": "code",
   "execution_count": 16,
   "id": "932bb4d6",
   "metadata": {},
   "outputs": [
    {
     "data": {
      "text/plain": [
       "Pipeline(steps=[('normalise', StandardScaler()),\n",
       "                ('model', SVC(C=10, gamma=0.1, tol=0.1))])"
      ]
     },
     "execution_count": 16,
     "metadata": {},
     "output_type": "execute_result"
    }
   ],
   "source": [
    "#Found the best model\n",
    "fittedgrid.best_estimator_"
   ]
  },
  {
   "cell_type": "markdown",
   "id": "1fc9d78e",
   "metadata": {},
   "source": [
    "The best estimator was found to be SVM with C = 10, gamma = 0.1 and tol = 0.1"
   ]
  },
  {
   "cell_type": "code",
   "execution_count": 17,
   "id": "748e16e6",
   "metadata": {},
   "outputs": [
    {
     "name": "stdout",
     "output_type": "stream",
     "text": [
      "The Train score was : 0.9978991596638656\n",
      "SVM Model Classification Report:\n",
      "\n",
      "              precision    recall  f1-score   support\n",
      "\n",
      "           0       0.97      0.94      0.96      2543\n",
      "           1       0.95      0.97      0.96      2557\n",
      "\n",
      "    accuracy                           0.96      5100\n",
      "   macro avg       0.96      0.96      0.96      5100\n",
      "weighted avg       0.96      0.96      0.96      5100\n",
      "\n"
     ]
    }
   ],
   "source": [
    "#Fitting the best oversampling model\n",
    "scaler = StandardScaler()\n",
    "scaler.fit(X_train_os)\n",
    "X_train_oS = scaler.transform(X_train_os)\n",
    "X_test_oS = scaler.transform(X_test_os)\n",
    "SVM_OS = svm.SVC(C=10,gamma=0.1,tol=0.1)\n",
    "SVM_OS.fit(X_train_oS,y_train_os)\n",
    "print(f'The Train score was : {SVM_OS.score(X_train_oS,y_train_os)}')\n",
    "\n",
    "#Oversampling predictions\n",
    "y_pred_os = SVM_OS.predict(X_test_oS)\n",
    "\n",
    "#Created a confusion matrix to illistrate the model on its performance in classifying between Existing and Attrited customers\n",
    "pd.DataFrame(confusion_matrix(y_test_os,y_pred_os),index=['True Exisiting Customer','True Attrited Customer'],columns=['Predicted Existing Customer','Predicted Attrited Customer'])\n",
    "\n",
    "\n",
    "print('SVM Model Classification Report:')\n",
    "print('')\n",
    "print(classification_report(y_test_os,y_pred_os))"
   ]
  },
  {
   "cell_type": "markdown",
   "id": "90ce6097",
   "metadata": {},
   "source": [
    "Surprisingly the oversampling method using SMOTE, seemed to find a better model with an even higher accuracy and precision score with them being 96% and 97% respectively"
   ]
  },
  {
   "cell_type": "markdown",
   "id": "0bbeb7ef",
   "metadata": {},
   "source": []
  }
 ],
 "metadata": {
  "kernelspec": {
   "display_name": "Python 3",
   "language": "python",
   "name": "python3"
  },
  "language_info": {
   "codemirror_mode": {
    "name": "ipython",
    "version": 3
   },
   "file_extension": ".py",
   "mimetype": "text/x-python",
   "name": "python",
   "nbconvert_exporter": "python",
   "pygments_lexer": "ipython3",
   "version": "3.8.8"
  }
 },
 "nbformat": 4,
 "nbformat_minor": 5
}
